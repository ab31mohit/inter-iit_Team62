{
 "cells": [
  {
   "cell_type": "code",
   "execution_count": 1,
   "metadata": {},
   "outputs": [],
   "source": [
    "import rclpy\n",
    "import rclpy.logging\n",
    "from rclpy.node import Node\n",
    "from actuator_msgs.msg import Actuators\n",
    "from std_msgs.msg import Header, Int16\n",
    "\n",
    "from rclpy.qos import QoSProfile, ReliabilityPolicy, HistoryPolicy, DurabilityPolicy\n",
    "from nav_msgs.msg import Odometry\n",
    "\n",
    "import numpy as np\n",
    "import math\n",
    "from collections import deque"
   ]
  },
  {
   "cell_type": "code",
   "execution_count": 2,
   "metadata": {},
   "outputs": [],
   "source": [
    "import pandas as pd\n",
    "from pydrake.all import LinearQuadraticRegulator"
   ]
  },
  {
   "cell_type": "code",
   "execution_count": 3,
   "metadata": {},
   "outputs": [
    {
     "data": {
      "text/plain": [
       "2.0643076923076924"
      ]
     },
     "execution_count": 3,
     "metadata": {},
     "output_type": "execute_result"
    }
   ],
   "source": [
    "mass = 2 + 0.016076923076923075 * 4\n",
    "mass"
   ]
  },
  {
   "cell_type": "code",
   "execution_count": 4,
   "metadata": {},
   "outputs": [],
   "source": [
    "Ixx_B = 0.02166666666666667\n",
    "Iyy_B = 0.02166666666666667\n",
    "Izz_B = 0.04000000000000001\n",
    "\n",
    "Ixx_P = 3.8464910483993325e-07\n",
    "Iyy_P = 2.6115851691700804e-05\n",
    "Izz_P = 2.649858234714004e-05\n",
    "\n",
    "Ixx_t = Ixx_B + 4 * Ixx_P\n",
    "Iyy_t = Iyy_B + 4 * Iyy_P\n",
    "Izz_t = Izz_B + 4 * Izz_P\n"
   ]
  },
  {
   "cell_type": "code",
   "execution_count": 5,
   "metadata": {},
   "outputs": [],
   "source": [
    "l = 0.25"
   ]
  },
  {
   "cell_type": "code",
   "execution_count": 6,
   "metadata": {},
   "outputs": [],
   "source": [
    "global KF, Y\n",
    "KF = 0.0\n",
    "Y = 0.0"
   ]
  },
  {
   "cell_type": "code",
   "execution_count": 7,
   "metadata": {},
   "outputs": [],
   "source": [
    "moment_constant = 0.016"
   ]
  },
  {
   "cell_type": "code",
   "execution_count": 8,
   "metadata": {},
   "outputs": [],
   "source": [
    "def quaternion_to_rpy(w, x, y, z):\n",
    "    \"\"\"\n",
    "    Convert quaternion to roll, pitch, and yaw (RPY) angles.\n",
    "    \n",
    "    Parameters:\n",
    "    - x: float, x component of the quaternion\n",
    "    - y: float, y component of the quaternion\n",
    "    - z: float, z component of the quaternion\n",
    "    - w: float, w component of the quaternion\n",
    "    \n",
    "    Returns:\n",
    "    - roll: float, roll angle in radians\n",
    "    - pitch: float, pitch angle in radians\n",
    "    - yaw: float, yaw angle in radians\n",
    "    \"\"\"\n",
    "    \n",
    "    # Roll (x-axis rotation)\n",
    "    sinr_cosp = 2 * (w * x + y * z)\n",
    "    cosr_cosp = 1 - 2 * (x * x + y * y)\n",
    "    roll = math.atan2(sinr_cosp, cosr_cosp)\n",
    "\n",
    "    # Pitch (y-axis rotation)\n",
    "    sinp = 2 * (w * y - z * x)\n",
    "    if abs(sinp) >= 1:\n",
    "        pitch = math.copysign(math.pi / 2, sinp)  # Use 90 degrees if out of range\n",
    "    else:\n",
    "        pitch = math.asin(sinp)\n",
    "\n",
    "    # Yaw (z-axis rotation)\n",
    "    siny_cosp = 2 * (w * z + x * y)\n",
    "    cosy_cosp = 1 - 2 * (y * y + z * z)\n",
    "    yaw = math.atan2(siny_cosp, cosy_cosp)\n",
    "\n",
    "    return roll, pitch, yaw"
   ]
  },
  {
   "cell_type": "code",
   "execution_count": 26,
   "metadata": {},
   "outputs": [],
   "source": [
    "class CommandPublisherNode(Node):\n",
    "    def __init__(self):\n",
    "        super().__init__('command_publisher_node')\n",
    "        self.logger = self.get_logger()\n",
    "        self.motor_command_pub = self.create_publisher(Actuators, '/x500/command/motor_speed', 10)\n",
    "        \n",
    "        qos_profile = QoSProfile(\n",
    "            reliability=ReliabilityPolicy.BEST_EFFORT,\n",
    "            durability=DurabilityPolicy.VOLATILE,\n",
    "            history=HistoryPolicy.KEEP_LAST,\n",
    "            depth=5\n",
    "        )\n",
    "        \n",
    "        # Create subscription with proper QoS\n",
    "        self.subscription = self.create_subscription(\n",
    "            Odometry,\n",
    "            '/x500/odometry',\n",
    "            self.odometry_callback,\n",
    "            qos_profile)\n",
    "        self.initialize_params()\n",
    "        \n",
    "    def initialize_params(self):        \n",
    "        self.actuators_msg = Actuators()\n",
    "        self.actuators_msg.header = Header()\n",
    "        self.actuators_msg.header.stamp = self.get_clock().now().to_msg()\n",
    "        self.actuators_msg.header.frame_id = ''\n",
    "        self.actuators_msg.velocity = [float(0), float(0), float(0), float(0)]\n",
    "                \n",
    "        # Initialize class attributes\n",
    "        self.clock_time = self.get_clock().now()\n",
    "        self.x = self.y = self.z = 0.0\n",
    "        self.vx = self.vy = self.vz = 0.0\n",
    "        self.prev_vx = self.prev_vy = self.prev_vz = 0.0\n",
    "        self.ax = self.ay = self.az = 0.0\n",
    "        self.roll = self.pitch = self.yaw = 0.0\n",
    "        \n",
    "        # Previous velocities for acceleration calculation\n",
    "        self.prev_vx = self.prev_vy = self.prev_vz = 0.0\n",
    "        \n",
    "        # Create a rate\n",
    "        self.frequency = 100\n",
    "        self.rate = self.create_rate(self.frequency) \n",
    "        \n",
    "        # motor commands\n",
    "        self.command_values = [0.0, 0.0, 0.0, 0.0]\n",
    "        self.to_measure_Y = False      #torque coeff\n",
    "        self.to_measure_KF = False      #force coeff\n",
    "        self.measurement_queue = deque(maxlen=10)\n",
    "        self.counter = 0\n",
    "        # for force coeff\n",
    "        self.avg_acc_error_tol = 0.01\n",
    "        self.avg__w__error_tol = 0.01\n",
    "        self.prev_value = 0.0\n",
    "        self.to_stop_spin = False\n",
    "        \n",
    "    def calculate_accelerations(self):\n",
    "        \"\"\"Calculate accelerations from velocity changes\"\"\"\n",
    "        curr_time = self.get_clock().now()\n",
    "        del_t = curr_time.seconds_nanoseconds()[0]-self.clock_time.seconds_nanoseconds()[0] + 1e-9 * (curr_time.seconds_nanoseconds()[1]-self.clock_time.seconds_nanoseconds()[1])\n",
    "        if del_t > 0:\n",
    "            self.ax = (self.vx - self.prev_vx) / del_t\n",
    "            self.ay = (self.vy - self.prev_vy) / del_t\n",
    "            self.az = (self.vz - self.prev_vz) / del_t  \n",
    "            \n",
    "    def odometry_callback(self, msg):\n",
    "        # Position\n",
    "        self.x = msg.pose.pose.position.x\n",
    "        self.y = msg.pose.pose.position.y\n",
    "        self.z = msg.pose.pose.position.z\n",
    "        # Orientation\n",
    "        _q = msg.pose.pose.orientation\n",
    "        self.rpy = list(quaternion_to_rpy(_q.w, _q.x, _q.y, _q.z))\n",
    "        # Linear velocities\n",
    "        self.vx = msg.twist.twist.linear.x\n",
    "        self.vy = msg.twist.twist.linear.y\n",
    "        self.vz = msg.twist.twist.linear.z\n",
    "        # Angular velocities\n",
    "        self.wx = msg.twist.twist.angular.x\n",
    "        self.wy = msg.twist.twist.angular.y\n",
    "        self.wz = msg.twist.twist.angular.z\n",
    "        # self.logger.info(f'{self.z}')\n",
    "        if self.to_measure_KF:\n",
    "            self.calculate_accelerations()\n",
    "            self.average_calculation(self.az, self.avg_acc_error_tol, self.calculate_KF)\n",
    "            \n",
    "        if self.to_measure_Y:\n",
    "            self.average_calculation(self.wz, self.avg__w__error_tol, self.calculate_Y)\n",
    "                \n",
    "    def average_calculation(self, x, x_tol, calculate_var):\n",
    "        if self.counter == 10:\n",
    "            value = sum(self.measurement_queue) / self.measurement_queue.maxlen\n",
    "            self.logger.info(f'average acceleration in z = {value}, prev_value: {self.prev_value}')\n",
    "            self.counter = 0\n",
    "            self.logger.info(f'{value - self.prev_value}, {x_tol}, {abs(value - self.prev_value) <= x_tol}')\n",
    "            if(abs(value - self.prev_value) <= x_tol):\n",
    "                self.logger.info('starting calculation of constants')\n",
    "                calculate_var(value)\n",
    "                self.logger.info('Done!!')\n",
    "            self.prev_value = value\n",
    "        self.counter += 1\n",
    "        self.measurement_queue.append(x)\n",
    "        \n",
    "    def calculate_KF(self, avg_acc):\n",
    "        global KF\n",
    "        KF = mass * (avg_acc + 9.8) / 4 / self.command_values[0]**2\n",
    "        self.logger.info(f'Calculated Value of Force coeff of a single motor: {KF}')\n",
    "        self.to_stop_spin = True\n",
    "        \n",
    "    def calculate_Y(self, avg_w):\n",
    "        global Y\n",
    "        W2 = [v**2 for v in self.command_values]\n",
    "        torque = KF * moment_constant * (W2[0] + W2[1] - W2[2] - W2[3])\n",
    "        Y = abs(torque) / abs(avg_w)\n",
    "        self.logger.info(f'Calculated Value of drag coeff of the drone: {Y}')\n",
    "        self.to_stop_spin = True\n",
    "    \n",
    "    def command_pub(self, cmd: list):\n",
    "        assert len(cmd) == 4\n",
    "        self.command_values = cmd\n",
    "        self.actuators_msg.header.stamp = self.get_clock().now().to_msg()\n",
    "        self.actuators_msg.velocity = [float(v) for v in cmd]\n",
    "        self.motor_command_pub.publish(self.actuators_msg)\n",
    "        \n",
    "        "
   ]
  },
  {
   "cell_type": "markdown",
   "metadata": {},
   "source": [
    "To measure Force coeff, make sure the drone is launched in gazebo with a prismatic joint in z direction."
   ]
  },
  {
   "cell_type": "code",
   "execution_count": 27,
   "metadata": {},
   "outputs": [],
   "source": [
    "rclpy.init()\n",
    "commander = CommandPublisherNode()"
   ]
  },
  {
   "cell_type": "code",
   "execution_count": null,
   "metadata": {},
   "outputs": [],
   "source": [
    "commander.to_measure_KF = True"
   ]
  },
  {
   "cell_type": "code",
   "execution_count": 11,
   "metadata": {},
   "outputs": [],
   "source": [
    "thrust_value = 550\n",
    "commander.command_pub([thrust_value for i in range(4)])"
   ]
  },
  {
   "cell_type": "markdown",
   "metadata": {},
   "source": [
    "Make sure the propellers are rotating in Gazebo, if yes, then only move forward"
   ]
  },
  {
   "cell_type": "code",
   "execution_count": 12,
   "metadata": {},
   "outputs": [
    {
     "name": "stderr",
     "output_type": "stream",
     "text": [
      "[INFO] [1732487467.588164345] [command_publisher_node]: average acceleration in z = 0.12474626061999183, prev_value: 0.0\n",
      "[INFO] [1732487467.597091814] [command_publisher_node]: 0.12474626061999183, 0.01, False\n",
      "[INFO] [1732487467.748585485] [command_publisher_node]: average acceleration in z = 0.18670938380467234, prev_value: 0.12474626061999183\n",
      "[INFO] [1732487467.752735387] [command_publisher_node]: 0.0619631231846805, 0.01, False\n",
      "[INFO] [1732487467.952464792] [command_publisher_node]: average acceleration in z = 0.20037687816682692, prev_value: 0.18670938380467234\n",
      "[INFO] [1732487467.955892135] [command_publisher_node]: 0.013667494362154586, 0.01, False\n",
      "[INFO] [1732487468.156128558] [command_publisher_node]: average acceleration in z = 0.20453664016658119, prev_value: 0.20037687816682692\n",
      "[INFO] [1732487468.164692196] [command_publisher_node]: 0.004159761999754263, 0.01, True\n",
      "[INFO] [1732487468.167879139] [command_publisher_node]: starting calculation of constants\n",
      "[INFO] [1732487468.175175484] [command_publisher_node]: Calculated Value of Force coeff of a single motor: 1.70681338382397e-05\n",
      "[INFO] [1732487468.181642601] [command_publisher_node]: Done!!\n"
     ]
    }
   ],
   "source": [
    "while rclpy.ok():\n",
    "    rclpy.spin_once(commander, timeout_sec=0.01)\n",
    "    if commander.to_stop_spin:\n",
    "        break\n",
    "commander.initialize_params()\n",
    "# rclpy.shutdown()\n",
    "# commander.destroy_node()"
   ]
  },
  {
   "cell_type": "code",
   "execution_count": 28,
   "metadata": {},
   "outputs": [
    {
     "data": {
      "text/plain": [
       "1.70681338382397e-05"
      ]
     },
     "execution_count": 28,
     "metadata": {},
     "output_type": "execute_result"
    }
   ],
   "source": [
    "KF"
   ]
  },
  {
   "cell_type": "markdown",
   "metadata": {},
   "source": [
    "To measure gamma coeff, make sure the drone is launched in gazebo with a revolute joint in z direction."
   ]
  },
  {
   "cell_type": "code",
   "execution_count": 29,
   "metadata": {},
   "outputs": [],
   "source": [
    "commander.to_measure_Y = True"
   ]
  },
  {
   "cell_type": "code",
   "execution_count": 30,
   "metadata": {},
   "outputs": [],
   "source": [
    "thrust_value = 200\n",
    "commander.command_pub([thrust_value if i<2 else 0.0 for i in range(4)])"
   ]
  },
  {
   "cell_type": "markdown",
   "metadata": {},
   "source": [
    "Make sure the propellers are rotating in Gazebo, if yes, then only move forward"
   ]
  },
  {
   "cell_type": "code",
   "execution_count": 31,
   "metadata": {},
   "outputs": [
    {
     "name": "stderr",
     "output_type": "stream",
     "text": [
      "[INFO] [1732487837.013559969] [command_publisher_node]: average acceleration in z = -11.200526896759412, prev_value: 0.0\n",
      "[INFO] [1732487837.020249682] [command_publisher_node]: -11.200526896759412, 0.01, False\n",
      "[INFO] [1732487837.217858607] [command_publisher_node]: average acceleration in z = 20.215399603879554, prev_value: -11.200526896759412\n",
      "[INFO] [1732487837.226601016] [command_publisher_node]: 31.415926500638967, 0.01, False\n",
      "[INFO] [1732487837.421332219] [command_publisher_node]: average acceleration in z = -11.20052696695402, prev_value: 20.215399603879554\n",
      "[INFO] [1732487837.430857809] [command_publisher_node]: -31.415926570833577, 0.01, False\n",
      "[INFO] [1732487837.621857864] [command_publisher_node]: average acceleration in z = -11.200527001586515, prev_value: -11.20052696695402\n",
      "[INFO] [1732487837.630596365] [command_publisher_node]: -3.4632494205766307e-08, 0.01, True\n",
      "[INFO] [1732487837.635279312] [command_publisher_node]: starting calculation of constants\n",
      "[INFO] [1732487837.641977018] [command_publisher_node]: Calculated Value of drag coeff of the drone: 0.0019505520865091648\n",
      "[INFO] [1732487837.645640526] [command_publisher_node]: Done!!\n"
     ]
    }
   ],
   "source": [
    "while rclpy.ok():\n",
    "    rclpy.spin_once(commander, timeout_sec=0.01)\n",
    "    if commander.to_stop_spin:\n",
    "        break\n",
    "commander.initialize_params()"
   ]
  },
  {
   "cell_type": "code",
   "execution_count": 32,
   "metadata": {},
   "outputs": [],
   "source": [
    "rclpy.shutdown()\n",
    "commander.destroy_node()"
   ]
  },
  {
   "cell_type": "code",
   "execution_count": 33,
   "metadata": {},
   "outputs": [
    {
     "data": {
      "text/plain": [
       "0.0019505520865091648"
      ]
     },
     "execution_count": 33,
     "metadata": {},
     "output_type": "execute_result"
    }
   ],
   "source": [
    "Y"
   ]
  },
  {
   "cell_type": "code",
   "execution_count": null,
   "metadata": {},
   "outputs": [],
   "source": []
  }
 ],
 "metadata": {
  "kernelspec": {
   "display_name": "Python 3",
   "language": "python",
   "name": "python3"
  },
  "language_info": {
   "codemirror_mode": {
    "name": "ipython",
    "version": 3
   },
   "file_extension": ".py",
   "mimetype": "text/x-python",
   "name": "python",
   "nbconvert_exporter": "python",
   "pygments_lexer": "ipython3",
   "version": "3.10.12"
  }
 },
 "nbformat": 4,
 "nbformat_minor": 2
}
